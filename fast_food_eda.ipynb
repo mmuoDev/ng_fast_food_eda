{
 "cells": [
  {
   "cell_type": "code",
   "execution_count": 1,
   "metadata": {},
   "outputs": [],
   "source": [
    "#import packages\n",
    "import pandas as pd\n",
    "import numpy as np\n",
    "import seaborn as sns\n",
    "import matplotlib.pyplot as  plt\n",
    "\n",
    "%matplotlib inline"
   ]
  },
  {
   "cell_type": "code",
   "execution_count": 2,
   "metadata": {},
   "outputs": [],
   "source": [
    "#data\n",
    "# It contains fast-food frequency and meal options that people are most likely to buy. \n",
    "# It also contains what aspects of a fast-food brand makes it more appealing.\n",
    "# The data was acquired by sending out questionnaires over a two day period in September 2018. \n",
    "# It was mostly geared at people who consider themselves \"Foodies\".\n",
    "\n",
    "data = pd.read_csv('fast_food.csv')"
   ]
  },
  {
   "cell_type": "code",
   "execution_count": 3,
   "metadata": {},
   "outputs": [
    {
     "data": {
      "text/html": [
       "<div>\n",
       "<style scoped>\n",
       "    .dataframe tbody tr th:only-of-type {\n",
       "        vertical-align: middle;\n",
       "    }\n",
       "\n",
       "    .dataframe tbody tr th {\n",
       "        vertical-align: top;\n",
       "    }\n",
       "\n",
       "    .dataframe thead th {\n",
       "        text-align: right;\n",
       "    }\n",
       "</style>\n",
       "<table border=\"1\" class=\"dataframe\">\n",
       "  <thead>\n",
       "    <tr style=\"text-align: right;\">\n",
       "      <th></th>\n",
       "      <th>Timestamp</th>\n",
       "      <th>What age group do you fall under?</th>\n",
       "      <th>Which is your gender?</th>\n",
       "      <th>What would you say accurately matches your personality in a group discussion?</th>\n",
       "      <th>Choose all the options that are close to where you reside.</th>\n",
       "      <th>How often do you eat from fast foods each month?</th>\n",
       "      <th>What does your purchase mostly consist of?  [Nigerian dishes]</th>\n",
       "      <th>What does your purchase mostly consist of?  [Burger]</th>\n",
       "      <th>What does your purchase mostly consist of?  [Pizza]</th>\n",
       "      <th>What does your purchase mostly consist of?  [Small chops]</th>\n",
       "      <th>...</th>\n",
       "      <th>When it comes to ordering, which do you prefer the most?</th>\n",
       "      <th>What is the best way to reach you for special offers/Discounts?</th>\n",
       "      <th>What about a fast food restaurant endears you to them? [Their special offers]</th>\n",
       "      <th>What about a fast food restaurant endears you to them? [The quality]</th>\n",
       "      <th>What about a fast food restaurant endears you to them? [Value for your money]</th>\n",
       "      <th>What about a fast food restaurant endears you to them? [Excellent service]</th>\n",
       "      <th>What about a fast food restaurant endears you to them? [Convenience]</th>\n",
       "      <th>What about a fast food restaurant endears you to them? [Price]</th>\n",
       "      <th>What about a fast food restaurant endears you to them? [Social media savviness]</th>\n",
       "      <th>What do you consider yourself to be the most?</th>\n",
       "    </tr>\n",
       "  </thead>\n",
       "  <tbody>\n",
       "    <tr>\n",
       "      <th>0</th>\n",
       "      <td>2018/09/07 4:16:15 PM GMT+1</td>\n",
       "      <td>25 - 34</td>\n",
       "      <td>Male</td>\n",
       "      <td>I am original and a nonconformist ( My opinion...</td>\n",
       "      <td>Victoria Island;Ikoyi</td>\n",
       "      <td>More than 10</td>\n",
       "      <td>Most likely</td>\n",
       "      <td>Most likely</td>\n",
       "      <td>Likely</td>\n",
       "      <td>Highly Unlikely</td>\n",
       "      <td>...</td>\n",
       "      <td>Order online and get delivered</td>\n",
       "      <td>Via Emails</td>\n",
       "      <td>Indifferent</td>\n",
       "      <td>Agree</td>\n",
       "      <td>Strongly Agree</td>\n",
       "      <td>Agree</td>\n",
       "      <td>Strongly Agree</td>\n",
       "      <td>Agree</td>\n",
       "      <td>Agree</td>\n",
       "      <td>A Shawarma Expert</td>\n",
       "    </tr>\n",
       "    <tr>\n",
       "      <th>1</th>\n",
       "      <td>2018/09/07 4:32:02 PM GMT+1</td>\n",
       "      <td>25 - 34</td>\n",
       "      <td>Male</td>\n",
       "      <td>I am original and a nonconformist ( My opinion...</td>\n",
       "      <td>Lekki Phase 1</td>\n",
       "      <td>7 - 10</td>\n",
       "      <td>Highly Unlikely</td>\n",
       "      <td>Likely</td>\n",
       "      <td>Likely</td>\n",
       "      <td>Most likely</td>\n",
       "      <td>...</td>\n",
       "      <td>Order in a physical store and takeaway</td>\n",
       "      <td>Via SMS</td>\n",
       "      <td>Strongly Agree</td>\n",
       "      <td>Strongly Agree</td>\n",
       "      <td>Strongly Agree</td>\n",
       "      <td>Strongly Agree</td>\n",
       "      <td>Agree</td>\n",
       "      <td>Strongly Agree</td>\n",
       "      <td>Indifferent</td>\n",
       "      <td>A Jollof Warrior</td>\n",
       "    </tr>\n",
       "    <tr>\n",
       "      <th>2</th>\n",
       "      <td>2018/09/07 5:12:57 PM GMT+1</td>\n",
       "      <td>25 - 34</td>\n",
       "      <td>Male</td>\n",
       "      <td>Passionate, I sometimes over talk.</td>\n",
       "      <td>Victoria Island;Ikoyi;Lekki Phase 1;Gbagada</td>\n",
       "      <td>4 - 6</td>\n",
       "      <td>Likely</td>\n",
       "      <td>Highly Unlikely</td>\n",
       "      <td>Most likely</td>\n",
       "      <td>Likely</td>\n",
       "      <td>...</td>\n",
       "      <td>Order online and pick up</td>\n",
       "      <td>Via SMS</td>\n",
       "      <td>Agree</td>\n",
       "      <td>Agree</td>\n",
       "      <td>Strongly Agree</td>\n",
       "      <td>Strongly Agree</td>\n",
       "      <td>Stongly Disagrre</td>\n",
       "      <td>Agree</td>\n",
       "      <td>Agree</td>\n",
       "      <td>A Jollof Warrior</td>\n",
       "    </tr>\n",
       "    <tr>\n",
       "      <th>3</th>\n",
       "      <td>2018/09/07 5:39:48 PM GMT+1</td>\n",
       "      <td>18 - 25</td>\n",
       "      <td>Female</td>\n",
       "      <td>Passionate, I sometimes over talk.</td>\n",
       "      <td>Lekki Phase 1</td>\n",
       "      <td>4 - 6</td>\n",
       "      <td>Most likely</td>\n",
       "      <td>Likely</td>\n",
       "      <td>Most likely</td>\n",
       "      <td>Likely</td>\n",
       "      <td>...</td>\n",
       "      <td>Order online and get delivered;Order online an...</td>\n",
       "      <td>Via SMS</td>\n",
       "      <td>Agree</td>\n",
       "      <td>Strongly Agree</td>\n",
       "      <td>Strongly Agree</td>\n",
       "      <td>Strongly Agree</td>\n",
       "      <td>Indifferent</td>\n",
       "      <td>Strongly Agree</td>\n",
       "      <td>Indifferent</td>\n",
       "      <td>A Pizza Connoisseur</td>\n",
       "    </tr>\n",
       "    <tr>\n",
       "      <th>4</th>\n",
       "      <td>2018/09/07 5:59:52 PM GMT+1</td>\n",
       "      <td>25 - 34</td>\n",
       "      <td>Female</td>\n",
       "      <td>Passionate, I sometimes over talk.</td>\n",
       "      <td>Gbagada</td>\n",
       "      <td>4 - 6</td>\n",
       "      <td>Most likely</td>\n",
       "      <td>Highly Unlikely</td>\n",
       "      <td>Highly Unlikely</td>\n",
       "      <td>Likely</td>\n",
       "      <td>...</td>\n",
       "      <td>Order online and get delivered;Order in a phys...</td>\n",
       "      <td>In-stores</td>\n",
       "      <td>Indifferent</td>\n",
       "      <td>Strongly Agree</td>\n",
       "      <td>Strongly Agree</td>\n",
       "      <td>Strongly Agree</td>\n",
       "      <td>Strongly Agree</td>\n",
       "      <td>Strongly Agree</td>\n",
       "      <td>Indifferent</td>\n",
       "      <td>Small chops Supremacist</td>\n",
       "    </tr>\n",
       "  </tbody>\n",
       "</table>\n",
       "<p>5 rows × 23 columns</p>\n",
       "</div>"
      ],
      "text/plain": [
       "                     Timestamp What age group do you fall under?  \\\n",
       "0  2018/09/07 4:16:15 PM GMT+1                           25 - 34   \n",
       "1  2018/09/07 4:32:02 PM GMT+1                           25 - 34   \n",
       "2  2018/09/07 5:12:57 PM GMT+1                           25 - 34   \n",
       "3  2018/09/07 5:39:48 PM GMT+1                           18 - 25   \n",
       "4  2018/09/07 5:59:52 PM GMT+1                           25 - 34   \n",
       "\n",
       "  Which is your gender?  \\\n",
       "0                  Male   \n",
       "1                  Male   \n",
       "2                  Male   \n",
       "3                Female   \n",
       "4                Female   \n",
       "\n",
       "  What would you say accurately matches your personality in a group discussion?  \\\n",
       "0  I am original and a nonconformist ( My opinion...                              \n",
       "1  I am original and a nonconformist ( My opinion...                              \n",
       "2                 Passionate, I sometimes over talk.                              \n",
       "3                 Passionate, I sometimes over talk.                              \n",
       "4                 Passionate, I sometimes over talk.                              \n",
       "\n",
       "  Choose all the options that are close to where you reside.  \\\n",
       "0                              Victoria Island;Ikoyi           \n",
       "1                                      Lekki Phase 1           \n",
       "2        Victoria Island;Ikoyi;Lekki Phase 1;Gbagada           \n",
       "3                                      Lekki Phase 1           \n",
       "4                                            Gbagada           \n",
       "\n",
       "  How often do you eat from fast foods each month?  \\\n",
       "0                                     More than 10   \n",
       "1                                           7 - 10   \n",
       "2                                            4 - 6   \n",
       "3                                            4 - 6   \n",
       "4                                            4 - 6   \n",
       "\n",
       "  What does your purchase mostly consist of?  [Nigerian dishes]  \\\n",
       "0                                        Most likely              \n",
       "1                                    Highly Unlikely              \n",
       "2                                             Likely              \n",
       "3                                        Most likely              \n",
       "4                                        Most likely              \n",
       "\n",
       "  What does your purchase mostly consist of?  [Burger]  \\\n",
       "0                                        Most likely     \n",
       "1                                             Likely     \n",
       "2                                    Highly Unlikely     \n",
       "3                                             Likely     \n",
       "4                                    Highly Unlikely     \n",
       "\n",
       "  What does your purchase mostly consist of?  [Pizza]  \\\n",
       "0                                             Likely    \n",
       "1                                             Likely    \n",
       "2                                        Most likely    \n",
       "3                                        Most likely    \n",
       "4                                    Highly Unlikely    \n",
       "\n",
       "  What does your purchase mostly consist of?  [Small chops]  \\\n",
       "0                                    Highly Unlikely          \n",
       "1                                        Most likely          \n",
       "2                                             Likely          \n",
       "3                                             Likely          \n",
       "4                                             Likely          \n",
       "\n",
       "                       ...                       \\\n",
       "0                      ...                        \n",
       "1                      ...                        \n",
       "2                      ...                        \n",
       "3                      ...                        \n",
       "4                      ...                        \n",
       "\n",
       "  When it comes to ordering, which do you prefer the most?  \\\n",
       "0                     Order online and get delivered         \n",
       "1             Order in a physical store and takeaway         \n",
       "2                           Order online and pick up         \n",
       "3  Order online and get delivered;Order online an...         \n",
       "4  Order online and get delivered;Order in a phys...         \n",
       "\n",
       "  What is the best way to reach you for special offers/Discounts?  \\\n",
       "0                                         Via Emails                \n",
       "1                                            Via SMS                \n",
       "2                                            Via SMS                \n",
       "3                                            Via SMS                \n",
       "4                                          In-stores                \n",
       "\n",
       "  What about a fast food restaurant endears you to them? [Their special offers]  \\\n",
       "0                                        Indifferent                              \n",
       "1                                     Strongly Agree                              \n",
       "2                                              Agree                              \n",
       "3                                              Agree                              \n",
       "4                                        Indifferent                              \n",
       "\n",
       "  What about a fast food restaurant endears you to them? [The quality]  \\\n",
       "0                                              Agree                     \n",
       "1                                     Strongly Agree                     \n",
       "2                                              Agree                     \n",
       "3                                     Strongly Agree                     \n",
       "4                                     Strongly Agree                     \n",
       "\n",
       "  What about a fast food restaurant endears you to them? [Value for your money]  \\\n",
       "0                                     Strongly Agree                              \n",
       "1                                     Strongly Agree                              \n",
       "2                                     Strongly Agree                              \n",
       "3                                     Strongly Agree                              \n",
       "4                                     Strongly Agree                              \n",
       "\n",
       "  What about a fast food restaurant endears you to them? [Excellent service]  \\\n",
       "0                                              Agree                           \n",
       "1                                     Strongly Agree                           \n",
       "2                                     Strongly Agree                           \n",
       "3                                     Strongly Agree                           \n",
       "4                                     Strongly Agree                           \n",
       "\n",
       "  What about a fast food restaurant endears you to them? [Convenience]  \\\n",
       "0                                     Strongly Agree                     \n",
       "1                                              Agree                     \n",
       "2                                   Stongly Disagrre                     \n",
       "3                                        Indifferent                     \n",
       "4                                     Strongly Agree                     \n",
       "\n",
       "  What about a fast food restaurant endears you to them? [Price]  \\\n",
       "0                                              Agree               \n",
       "1                                     Strongly Agree               \n",
       "2                                              Agree               \n",
       "3                                     Strongly Agree               \n",
       "4                                     Strongly Agree               \n",
       "\n",
       "  What about a fast food restaurant endears you to them? [Social media savviness]  \\\n",
       "0                                              Agree                                \n",
       "1                                        Indifferent                                \n",
       "2                                              Agree                                \n",
       "3                                        Indifferent                                \n",
       "4                                        Indifferent                                \n",
       "\n",
       "  What do you consider yourself to be the most?  \n",
       "0                             A Shawarma Expert  \n",
       "1                              A Jollof Warrior  \n",
       "2                              A Jollof Warrior  \n",
       "3                           A Pizza Connoisseur  \n",
       "4                       Small chops Supremacist  \n",
       "\n",
       "[5 rows x 23 columns]"
      ]
     },
     "execution_count": 3,
     "metadata": {},
     "output_type": "execute_result"
    }
   ],
   "source": [
    "data.head()"
   ]
  },
  {
   "cell_type": "code",
   "execution_count": 4,
   "metadata": {},
   "outputs": [
    {
     "data": {
      "text/plain": [
       "Index(['Timestamp', 'What age group do you fall under?',\n",
       "       'Which is your gender?',\n",
       "       'What would you say accurately matches your personality in a group discussion?',\n",
       "       'Choose all the options that are close to where you reside.',\n",
       "       'How often do you eat from fast foods each month?',\n",
       "       'What does your purchase mostly consist of?  [Nigerian dishes]',\n",
       "       'What does your purchase mostly consist of?  [Burger]',\n",
       "       'What does your purchase mostly consist of?  [Pizza]',\n",
       "       'What does your purchase mostly consist of?  [Small chops]',\n",
       "       'What does your purchase mostly consist of?  [Shawarma]',\n",
       "       'What do you look for when choosing a fast food restaurant?',\n",
       "       'Which of the following have you been to at least twice in the last 2 months',\n",
       "       'When it comes to ordering, which do you prefer the most?',\n",
       "       'What is the best way to reach you for special offers/Discounts?',\n",
       "       'What about a fast food restaurant endears you to them? [Their special offers]',\n",
       "       'What about a fast food restaurant endears you to them? [The quality]',\n",
       "       'What about a fast food restaurant endears you to them? [Value for your money]',\n",
       "       'What about a fast food restaurant endears you to them? [Excellent service]',\n",
       "       'What about a fast food restaurant endears you to them? [Convenience]',\n",
       "       'What about a fast food restaurant endears you to them? [Price]',\n",
       "       'What about a fast food restaurant endears you to them? [Social media savviness]',\n",
       "       'What do you consider yourself to be the most?'],\n",
       "      dtype='object')"
      ]
     },
     "execution_count": 4,
     "metadata": {},
     "output_type": "execute_result"
    }
   ],
   "source": [
    "#get columns\n",
    "data.columns"
   ]
  },
  {
   "cell_type": "code",
   "execution_count": 5,
   "metadata": {},
   "outputs": [],
   "source": [
    "#rename columns\n",
    "new_columns = ['created_at', 'age_group', 'gender', 'personality', 'areas_close_to_residence', 'times_at_fast_food_per_month', 'nigerian_dishes_in_purchase',\n",
    "              'burger_in_purchase', 'pizza_in_purchase', 'small_chops_in_purchase', 'shawarma_in_purchase', 'preference_choosing_restaurant',\n",
    "              'visited_twice_last_2_months', 'preferred_means_of_ordering', 'best_way_to_reach_for_discounts', 'does_fast_food_special_offers_endears_to_you',\n",
    "              'does_fast_food_quality_endears_to_you', 'does_fast_food_value_for_your_money_endears_to_you',\n",
    "              'does_fast_food_service_endears_to_you', 'does_fast_food_convenience_endears_you', 'does_fast_food_price_endears_to_you',\n",
    "              'does_fast_food_social_media_savviness_endears_to_you', 'your_class']\n",
    "\n",
    "data.columns = new_columns"
   ]
  },
  {
   "cell_type": "code",
   "execution_count": 6,
   "metadata": {},
   "outputs": [
    {
     "data": {
      "text/plain": [
       "Index(['created_at', 'age_group', 'gender', 'personality',\n",
       "       'areas_close_to_residence', 'times_at_fast_food_per_month',\n",
       "       'nigerian_dishes_in_purchase', 'burger_in_purchase',\n",
       "       'pizza_in_purchase', 'small_chops_in_purchase', 'shawarma_in_purchase',\n",
       "       'preference_choosing_restaurant', 'visited_twice_last_2_months',\n",
       "       'preferred_means_of_ordering', 'best_way_to_reach_for_discounts',\n",
       "       'does_fast_food_special_offers_endears_to_you',\n",
       "       'does_fast_food_quality_endears_to_you',\n",
       "       'does_fast_food_value_for_your_money_endears_to_you',\n",
       "       'does_fast_food_service_endears_to_you',\n",
       "       'does_fast_food_convenience_endears_you',\n",
       "       'does_fast_food_price_endears_to_you',\n",
       "       'does_fast_food_social_media_savviness_endears_to_you', 'your_class'],\n",
       "      dtype='object')"
      ]
     },
     "execution_count": 6,
     "metadata": {},
     "output_type": "execute_result"
    }
   ],
   "source": [
    "data.columns"
   ]
  },
  {
   "cell_type": "code",
   "execution_count": 7,
   "metadata": {},
   "outputs": [
    {
     "data": {
      "text/plain": [
       "(441, 23)"
      ]
     },
     "execution_count": 7,
     "metadata": {},
     "output_type": "execute_result"
    }
   ],
   "source": [
    "data.shape"
   ]
  },
  {
   "cell_type": "code",
   "execution_count": 8,
   "metadata": {},
   "outputs": [
    {
     "data": {
      "text/html": [
       "<div>\n",
       "<style scoped>\n",
       "    .dataframe tbody tr th:only-of-type {\n",
       "        vertical-align: middle;\n",
       "    }\n",
       "\n",
       "    .dataframe tbody tr th {\n",
       "        vertical-align: top;\n",
       "    }\n",
       "\n",
       "    .dataframe thead th {\n",
       "        text-align: right;\n",
       "    }\n",
       "</style>\n",
       "<table border=\"1\" class=\"dataframe\">\n",
       "  <thead>\n",
       "    <tr style=\"text-align: right;\">\n",
       "      <th></th>\n",
       "      <th>created_at</th>\n",
       "      <th>age_group</th>\n",
       "      <th>gender</th>\n",
       "      <th>personality</th>\n",
       "      <th>areas_close_to_residence</th>\n",
       "      <th>times_at_fast_food_per_month</th>\n",
       "      <th>nigerian_dishes_in_purchase</th>\n",
       "      <th>burger_in_purchase</th>\n",
       "      <th>pizza_in_purchase</th>\n",
       "      <th>small_chops_in_purchase</th>\n",
       "      <th>...</th>\n",
       "      <th>preferred_means_of_ordering</th>\n",
       "      <th>best_way_to_reach_for_discounts</th>\n",
       "      <th>does_fast_food_special_offers_endears_to_you</th>\n",
       "      <th>does_fast_food_quality_endears_to_you</th>\n",
       "      <th>does_fast_food_value_for_your_money_endears_to_you</th>\n",
       "      <th>does_fast_food_service_endears_to_you</th>\n",
       "      <th>does_fast_food_convenience_endears_you</th>\n",
       "      <th>does_fast_food_price_endears_to_you</th>\n",
       "      <th>does_fast_food_social_media_savviness_endears_to_you</th>\n",
       "      <th>your_class</th>\n",
       "    </tr>\n",
       "  </thead>\n",
       "  <tbody>\n",
       "    <tr>\n",
       "      <th>0</th>\n",
       "      <td>2018/09/07 4:16:15 PM GMT+1</td>\n",
       "      <td>25 - 34</td>\n",
       "      <td>Male</td>\n",
       "      <td>I am original and a nonconformist ( My opinion...</td>\n",
       "      <td>Victoria Island;Ikoyi</td>\n",
       "      <td>More than 10</td>\n",
       "      <td>Most likely</td>\n",
       "      <td>Most likely</td>\n",
       "      <td>Likely</td>\n",
       "      <td>Highly Unlikely</td>\n",
       "      <td>...</td>\n",
       "      <td>Order online and get delivered</td>\n",
       "      <td>Via Emails</td>\n",
       "      <td>Indifferent</td>\n",
       "      <td>Agree</td>\n",
       "      <td>Strongly Agree</td>\n",
       "      <td>Agree</td>\n",
       "      <td>Strongly Agree</td>\n",
       "      <td>Agree</td>\n",
       "      <td>Agree</td>\n",
       "      <td>A Shawarma Expert</td>\n",
       "    </tr>\n",
       "    <tr>\n",
       "      <th>1</th>\n",
       "      <td>2018/09/07 4:32:02 PM GMT+1</td>\n",
       "      <td>25 - 34</td>\n",
       "      <td>Male</td>\n",
       "      <td>I am original and a nonconformist ( My opinion...</td>\n",
       "      <td>Lekki Phase 1</td>\n",
       "      <td>7 - 10</td>\n",
       "      <td>Highly Unlikely</td>\n",
       "      <td>Likely</td>\n",
       "      <td>Likely</td>\n",
       "      <td>Most likely</td>\n",
       "      <td>...</td>\n",
       "      <td>Order in a physical store and takeaway</td>\n",
       "      <td>Via SMS</td>\n",
       "      <td>Strongly Agree</td>\n",
       "      <td>Strongly Agree</td>\n",
       "      <td>Strongly Agree</td>\n",
       "      <td>Strongly Agree</td>\n",
       "      <td>Agree</td>\n",
       "      <td>Strongly Agree</td>\n",
       "      <td>Indifferent</td>\n",
       "      <td>A Jollof Warrior</td>\n",
       "    </tr>\n",
       "    <tr>\n",
       "      <th>2</th>\n",
       "      <td>2018/09/07 5:12:57 PM GMT+1</td>\n",
       "      <td>25 - 34</td>\n",
       "      <td>Male</td>\n",
       "      <td>Passionate, I sometimes over talk.</td>\n",
       "      <td>Victoria Island;Ikoyi;Lekki Phase 1;Gbagada</td>\n",
       "      <td>4 - 6</td>\n",
       "      <td>Likely</td>\n",
       "      <td>Highly Unlikely</td>\n",
       "      <td>Most likely</td>\n",
       "      <td>Likely</td>\n",
       "      <td>...</td>\n",
       "      <td>Order online and pick up</td>\n",
       "      <td>Via SMS</td>\n",
       "      <td>Agree</td>\n",
       "      <td>Agree</td>\n",
       "      <td>Strongly Agree</td>\n",
       "      <td>Strongly Agree</td>\n",
       "      <td>Stongly Disagrre</td>\n",
       "      <td>Agree</td>\n",
       "      <td>Agree</td>\n",
       "      <td>A Jollof Warrior</td>\n",
       "    </tr>\n",
       "    <tr>\n",
       "      <th>3</th>\n",
       "      <td>2018/09/07 5:39:48 PM GMT+1</td>\n",
       "      <td>18 - 25</td>\n",
       "      <td>Female</td>\n",
       "      <td>Passionate, I sometimes over talk.</td>\n",
       "      <td>Lekki Phase 1</td>\n",
       "      <td>4 - 6</td>\n",
       "      <td>Most likely</td>\n",
       "      <td>Likely</td>\n",
       "      <td>Most likely</td>\n",
       "      <td>Likely</td>\n",
       "      <td>...</td>\n",
       "      <td>Order online and get delivered;Order online an...</td>\n",
       "      <td>Via SMS</td>\n",
       "      <td>Agree</td>\n",
       "      <td>Strongly Agree</td>\n",
       "      <td>Strongly Agree</td>\n",
       "      <td>Strongly Agree</td>\n",
       "      <td>Indifferent</td>\n",
       "      <td>Strongly Agree</td>\n",
       "      <td>Indifferent</td>\n",
       "      <td>A Pizza Connoisseur</td>\n",
       "    </tr>\n",
       "    <tr>\n",
       "      <th>4</th>\n",
       "      <td>2018/09/07 5:59:52 PM GMT+1</td>\n",
       "      <td>25 - 34</td>\n",
       "      <td>Female</td>\n",
       "      <td>Passionate, I sometimes over talk.</td>\n",
       "      <td>Gbagada</td>\n",
       "      <td>4 - 6</td>\n",
       "      <td>Most likely</td>\n",
       "      <td>Highly Unlikely</td>\n",
       "      <td>Highly Unlikely</td>\n",
       "      <td>Likely</td>\n",
       "      <td>...</td>\n",
       "      <td>Order online and get delivered;Order in a phys...</td>\n",
       "      <td>In-stores</td>\n",
       "      <td>Indifferent</td>\n",
       "      <td>Strongly Agree</td>\n",
       "      <td>Strongly Agree</td>\n",
       "      <td>Strongly Agree</td>\n",
       "      <td>Strongly Agree</td>\n",
       "      <td>Strongly Agree</td>\n",
       "      <td>Indifferent</td>\n",
       "      <td>Small chops Supremacist</td>\n",
       "    </tr>\n",
       "  </tbody>\n",
       "</table>\n",
       "<p>5 rows × 23 columns</p>\n",
       "</div>"
      ],
      "text/plain": [
       "                    created_at age_group  gender  \\\n",
       "0  2018/09/07 4:16:15 PM GMT+1   25 - 34    Male   \n",
       "1  2018/09/07 4:32:02 PM GMT+1   25 - 34    Male   \n",
       "2  2018/09/07 5:12:57 PM GMT+1   25 - 34    Male   \n",
       "3  2018/09/07 5:39:48 PM GMT+1   18 - 25  Female   \n",
       "4  2018/09/07 5:59:52 PM GMT+1   25 - 34  Female   \n",
       "\n",
       "                                         personality  \\\n",
       "0  I am original and a nonconformist ( My opinion...   \n",
       "1  I am original and a nonconformist ( My opinion...   \n",
       "2                 Passionate, I sometimes over talk.   \n",
       "3                 Passionate, I sometimes over talk.   \n",
       "4                 Passionate, I sometimes over talk.   \n",
       "\n",
       "                      areas_close_to_residence times_at_fast_food_per_month  \\\n",
       "0                        Victoria Island;Ikoyi                 More than 10   \n",
       "1                                Lekki Phase 1                       7 - 10   \n",
       "2  Victoria Island;Ikoyi;Lekki Phase 1;Gbagada                        4 - 6   \n",
       "3                                Lekki Phase 1                        4 - 6   \n",
       "4                                      Gbagada                        4 - 6   \n",
       "\n",
       "  nigerian_dishes_in_purchase burger_in_purchase pizza_in_purchase  \\\n",
       "0                 Most likely        Most likely            Likely   \n",
       "1             Highly Unlikely             Likely            Likely   \n",
       "2                      Likely    Highly Unlikely       Most likely   \n",
       "3                 Most likely             Likely       Most likely   \n",
       "4                 Most likely    Highly Unlikely   Highly Unlikely   \n",
       "\n",
       "  small_chops_in_purchase           ...             \\\n",
       "0         Highly Unlikely           ...              \n",
       "1             Most likely           ...              \n",
       "2                  Likely           ...              \n",
       "3                  Likely           ...              \n",
       "4                  Likely           ...              \n",
       "\n",
       "                         preferred_means_of_ordering  \\\n",
       "0                     Order online and get delivered   \n",
       "1             Order in a physical store and takeaway   \n",
       "2                           Order online and pick up   \n",
       "3  Order online and get delivered;Order online an...   \n",
       "4  Order online and get delivered;Order in a phys...   \n",
       "\n",
       "  best_way_to_reach_for_discounts  \\\n",
       "0                      Via Emails   \n",
       "1                         Via SMS   \n",
       "2                         Via SMS   \n",
       "3                         Via SMS   \n",
       "4                       In-stores   \n",
       "\n",
       "  does_fast_food_special_offers_endears_to_you  \\\n",
       "0                                  Indifferent   \n",
       "1                               Strongly Agree   \n",
       "2                                        Agree   \n",
       "3                                        Agree   \n",
       "4                                  Indifferent   \n",
       "\n",
       "  does_fast_food_quality_endears_to_you  \\\n",
       "0                                 Agree   \n",
       "1                        Strongly Agree   \n",
       "2                                 Agree   \n",
       "3                        Strongly Agree   \n",
       "4                        Strongly Agree   \n",
       "\n",
       "  does_fast_food_value_for_your_money_endears_to_you  \\\n",
       "0                                     Strongly Agree   \n",
       "1                                     Strongly Agree   \n",
       "2                                     Strongly Agree   \n",
       "3                                     Strongly Agree   \n",
       "4                                     Strongly Agree   \n",
       "\n",
       "  does_fast_food_service_endears_to_you  \\\n",
       "0                                 Agree   \n",
       "1                        Strongly Agree   \n",
       "2                        Strongly Agree   \n",
       "3                        Strongly Agree   \n",
       "4                        Strongly Agree   \n",
       "\n",
       "  does_fast_food_convenience_endears_you does_fast_food_price_endears_to_you  \\\n",
       "0                         Strongly Agree                               Agree   \n",
       "1                                  Agree                      Strongly Agree   \n",
       "2                       Stongly Disagrre                               Agree   \n",
       "3                            Indifferent                      Strongly Agree   \n",
       "4                         Strongly Agree                      Strongly Agree   \n",
       "\n",
       "  does_fast_food_social_media_savviness_endears_to_you  \\\n",
       "0                                              Agree     \n",
       "1                                        Indifferent     \n",
       "2                                              Agree     \n",
       "3                                        Indifferent     \n",
       "4                                        Indifferent     \n",
       "\n",
       "                your_class  \n",
       "0        A Shawarma Expert  \n",
       "1         A Jollof Warrior  \n",
       "2         A Jollof Warrior  \n",
       "3      A Pizza Connoisseur  \n",
       "4  Small chops Supremacist  \n",
       "\n",
       "[5 rows x 23 columns]"
      ]
     },
     "execution_count": 8,
     "metadata": {},
     "output_type": "execute_result"
    }
   ],
   "source": [
    "data.head()"
   ]
  },
  {
   "cell_type": "code",
   "execution_count": 9,
   "metadata": {},
   "outputs": [
    {
     "data": {
      "text/plain": [
       "created_at                                              object\n",
       "age_group                                               object\n",
       "gender                                                  object\n",
       "personality                                             object\n",
       "areas_close_to_residence                                object\n",
       "times_at_fast_food_per_month                            object\n",
       "nigerian_dishes_in_purchase                             object\n",
       "burger_in_purchase                                      object\n",
       "pizza_in_purchase                                       object\n",
       "small_chops_in_purchase                                 object\n",
       "shawarma_in_purchase                                    object\n",
       "preference_choosing_restaurant                          object\n",
       "visited_twice_last_2_months                             object\n",
       "preferred_means_of_ordering                             object\n",
       "best_way_to_reach_for_discounts                         object\n",
       "does_fast_food_special_offers_endears_to_you            object\n",
       "does_fast_food_quality_endears_to_you                   object\n",
       "does_fast_food_value_for_your_money_endears_to_you      object\n",
       "does_fast_food_service_endears_to_you                   object\n",
       "does_fast_food_convenience_endears_you                  object\n",
       "does_fast_food_price_endears_to_you                     object\n",
       "does_fast_food_social_media_savviness_endears_to_you    object\n",
       "your_class                                              object\n",
       "dtype: object"
      ]
     },
     "execution_count": 9,
     "metadata": {},
     "output_type": "execute_result"
    }
   ],
   "source": [
    "data.dtypes\n",
    "#yuck"
   ]
  },
  {
   "cell_type": "markdown",
   "metadata": {},
   "source": [
    "# Data Preprocessing"
   ]
  },
  {
   "cell_type": "code",
   "execution_count": 10,
   "metadata": {},
   "outputs": [
    {
     "data": {
      "text/plain": [
       "created_at                                               0\n",
       "age_group                                                0\n",
       "gender                                                   0\n",
       "personality                                              1\n",
       "areas_close_to_residence                                20\n",
       "times_at_fast_food_per_month                             0\n",
       "nigerian_dishes_in_purchase                              0\n",
       "burger_in_purchase                                       0\n",
       "pizza_in_purchase                                        0\n",
       "small_chops_in_purchase                                  0\n",
       "shawarma_in_purchase                                     0\n",
       "preference_choosing_restaurant                           0\n",
       "visited_twice_last_2_months                              0\n",
       "preferred_means_of_ordering                              0\n",
       "best_way_to_reach_for_discounts                          0\n",
       "does_fast_food_special_offers_endears_to_you             0\n",
       "does_fast_food_quality_endears_to_you                    0\n",
       "does_fast_food_value_for_your_money_endears_to_you       0\n",
       "does_fast_food_service_endears_to_you                    0\n",
       "does_fast_food_convenience_endears_you                   0\n",
       "does_fast_food_price_endears_to_you                      0\n",
       "does_fast_food_social_media_savviness_endears_to_you     0\n",
       "your_class                                               0\n",
       "dtype: int64"
      ]
     },
     "execution_count": 10,
     "metadata": {},
     "output_type": "execute_result"
    }
   ],
   "source": [
    "#check for missing values\n",
    "data.isna().sum()"
   ]
  },
  {
   "cell_type": "code",
   "execution_count": 11,
   "metadata": {},
   "outputs": [
    {
     "data": {
      "text/plain": [
       "Gbagada                                               119\n",
       "Magodo                                                 55\n",
       "Lekki Phase 1                                          50\n",
       "Victoria Island                                        41\n",
       "Victoria Island;Ikoyi;Lekki Phase 1                    40\n",
       "Magodo;Gbagada                                         38\n",
       "Ikoyi                                                  14\n",
       "Victoria Island;Lekki Phase 1                          11\n",
       "Victoria Island;Ikoyi;Gbagada                           9\n",
       "Victoria Island;Gbagada                                 7\n",
       "Victoria Island;Magodo;Ikoyi;Lekki Phase 1;Gbagada      7\n",
       "Victoria Island;Ikoyi;Lekki Phase 1;Gbagada             6\n",
       "Victoria Island;Ikoyi                                   5\n",
       "Lekki Phase 1;Gbagada                                   4\n",
       "Ikoyi;Gbagada                                           4\n",
       "Magodo;Lekki Phase 1;Gbagada                            2\n",
       "Victoria Island;Magodo;Ikoyi;Lekki Phase 1              2\n",
       "Ikoyi;Lekki Phase 1                                     1\n",
       "Victoria Island;Magodo;Lekki Phase 1;Gbagada            1\n",
       "Victoria Island;Magodo;Ikoyi;Gbagada                    1\n",
       "Magodo;Ikoyi;Gbagada                                    1\n",
       "Magodo;Ikoyi                                            1\n",
       "Victoria Island;Magodo;Gbagada                          1\n",
       "Magodo;Lekki Phase 1                                    1\n",
       "Name: areas_close_to_residence, dtype: int64"
      ]
     },
     "execution_count": 11,
     "metadata": {},
     "output_type": "execute_result"
    }
   ],
   "source": [
    "#lets look at the residence\n",
    "data['areas_close_to_residence'].value_counts()"
   ]
  },
  {
   "cell_type": "code",
   "execution_count": 12,
   "metadata": {},
   "outputs": [
    {
     "data": {
      "text/plain": [
       "created_at                                              0\n",
       "age_group                                               0\n",
       "gender                                                  0\n",
       "personality                                             1\n",
       "areas_close_to_residence                                0\n",
       "times_at_fast_food_per_month                            0\n",
       "nigerian_dishes_in_purchase                             0\n",
       "burger_in_purchase                                      0\n",
       "pizza_in_purchase                                       0\n",
       "small_chops_in_purchase                                 0\n",
       "shawarma_in_purchase                                    0\n",
       "preference_choosing_restaurant                          0\n",
       "visited_twice_last_2_months                             0\n",
       "preferred_means_of_ordering                             0\n",
       "best_way_to_reach_for_discounts                         0\n",
       "does_fast_food_special_offers_endears_to_you            0\n",
       "does_fast_food_quality_endears_to_you                   0\n",
       "does_fast_food_value_for_your_money_endears_to_you      0\n",
       "does_fast_food_service_endears_to_you                   0\n",
       "does_fast_food_convenience_endears_you                  0\n",
       "does_fast_food_price_endears_to_you                     0\n",
       "does_fast_food_social_media_savviness_endears_to_you    0\n",
       "your_class                                              0\n",
       "dtype: int64"
      ]
     },
     "execution_count": 12,
     "metadata": {},
     "output_type": "execute_result"
    }
   ],
   "source": [
    "#values probably missing becuase where  areas close to where reside were not available on the questionnaire\n",
    "#lets replace with 'others'\n",
    "\n",
    "data['areas_close_to_residence'] = data['areas_close_to_residence'].fillna('Others')\n",
    "data.isna().sum()"
   ]
  },
  {
   "cell_type": "code",
   "execution_count": 13,
   "metadata": {},
   "outputs": [
    {
     "data": {
      "text/plain": [
       "I am original and a nonconformist ( My opinion is not influenced by the group)    210\n",
       "Shy, but I hold my own.                                                           113\n",
       "Passionate, I sometimes over talk.                                                108\n",
       "I am authoritative.                                                                 9\n",
       "Name: personality, dtype: int64"
      ]
     },
     "execution_count": 13,
     "metadata": {},
     "output_type": "execute_result"
    }
   ],
   "source": [
    "#check personlity\n",
    "data['personality'].value_counts()"
   ]
  },
  {
   "cell_type": "code",
   "execution_count": 14,
   "metadata": {},
   "outputs": [],
   "source": [
    "#replace with mode\n",
    "data['personality'] = data['personality'].fillna(data['personality'].mode().iloc[0])"
   ]
  },
  {
   "cell_type": "code",
   "execution_count": 15,
   "metadata": {},
   "outputs": [
    {
     "data": {
      "text/plain": [
       "created_at                                              0\n",
       "age_group                                               0\n",
       "gender                                                  0\n",
       "personality                                             0\n",
       "areas_close_to_residence                                0\n",
       "times_at_fast_food_per_month                            0\n",
       "nigerian_dishes_in_purchase                             0\n",
       "burger_in_purchase                                      0\n",
       "pizza_in_purchase                                       0\n",
       "small_chops_in_purchase                                 0\n",
       "shawarma_in_purchase                                    0\n",
       "preference_choosing_restaurant                          0\n",
       "visited_twice_last_2_months                             0\n",
       "preferred_means_of_ordering                             0\n",
       "best_way_to_reach_for_discounts                         0\n",
       "does_fast_food_special_offers_endears_to_you            0\n",
       "does_fast_food_quality_endears_to_you                   0\n",
       "does_fast_food_value_for_your_money_endears_to_you      0\n",
       "does_fast_food_service_endears_to_you                   0\n",
       "does_fast_food_convenience_endears_you                  0\n",
       "does_fast_food_price_endears_to_you                     0\n",
       "does_fast_food_social_media_savviness_endears_to_you    0\n",
       "your_class                                              0\n",
       "dtype: int64"
      ]
     },
     "execution_count": 15,
     "metadata": {},
     "output_type": "execute_result"
    }
   ],
   "source": [
    "data.isna().sum()\n",
    "#we good"
   ]
  },
  {
   "cell_type": "code",
   "execution_count": 16,
   "metadata": {},
   "outputs": [],
   "source": [
    "#drop created_at\n",
    "data.drop('created_at', axis=1, inplace=True)"
   ]
  },
  {
   "cell_type": "code",
   "execution_count": 17,
   "metadata": {},
   "outputs": [
    {
     "data": {
      "text/plain": [
       "18 - 24    199\n",
       "25 - 34    198\n",
       "35 - 39     22\n",
       "40+         13\n",
       "18 - 25      7\n",
       "16           1\n",
       "21           1\n",
       "Name: age_group, dtype: int64"
      ]
     },
     "execution_count": 17,
     "metadata": {},
     "output_type": "execute_result"
    }
   ],
   "source": [
    "data['age_group'].value_counts()"
   ]
  },
  {
   "cell_type": "code",
   "execution_count": 18,
   "metadata": {},
   "outputs": [],
   "source": [
    "#replace 18-25 with 18-24 and 21 with 18 - 25\n",
    "data['age_group'] = data['age_group'].replace({'18 - 25':'18 - 24', '21':'18 - 24'})"
   ]
  },
  {
   "cell_type": "code",
   "execution_count": 19,
   "metadata": {},
   "outputs": [
    {
     "data": {
      "text/plain": [
       "18 - 24    207\n",
       "25 - 34    198\n",
       "35 - 39     22\n",
       "40+         13\n",
       "16           1\n",
       "Name: age_group, dtype: int64"
      ]
     },
     "execution_count": 19,
     "metadata": {},
     "output_type": "execute_result"
    }
   ],
   "source": [
    "data['age_group'].value_counts()"
   ]
  },
  {
   "cell_type": "code",
   "execution_count": 20,
   "metadata": {},
   "outputs": [],
   "source": [
    "#lets categorize the age groups\n",
    "age_groups = {'16':'teenager', '18 - 24': 'growing_adults', '25 - 34':'young_adults', '35 - 39':'adults', '40+':'older adults'}\n",
    "data['age_group'] = data['age_group'].replace(age_groups)"
   ]
  },
  {
   "cell_type": "code",
   "execution_count": 21,
   "metadata": {},
   "outputs": [
    {
     "data": {
      "text/plain": [
       "I am original and a nonconformist ( My opinion is not influenced by the group)    211\n",
       "Shy, but I hold my own.                                                           113\n",
       "Passionate, I sometimes over talk.                                                108\n",
       "I am authoritative.                                                                 9\n",
       "Name: personality, dtype: int64"
      ]
     },
     "execution_count": 21,
     "metadata": {},
     "output_type": "execute_result"
    }
   ],
   "source": [
    "#personality..this affects life choices\n",
    "data['personality'].value_counts()"
   ]
  },
  {
   "cell_type": "code",
   "execution_count": 22,
   "metadata": {},
   "outputs": [],
   "source": [
    "personality_groups = {'I am original and a nonconformist ( My opinion is not influenced by the group)':'class_a',\n",
    "                     'Shy, but I hold my own.':'class_b', 'Passionate, I sometimes over talk.':'class_c', 'I am authoritative.':'class_d'}\n",
    "data['personality'] = data['personality'].replace(personality_groups)"
   ]
  },
  {
   "cell_type": "code",
   "execution_count": 23,
   "metadata": {},
   "outputs": [
    {
     "data": {
      "text/plain": [
       "Gbagada                                               119\n",
       "Magodo                                                 55\n",
       "Lekki Phase 1                                          50\n",
       "Victoria Island                                        41\n",
       "Victoria Island;Ikoyi;Lekki Phase 1                    40\n",
       "Magodo;Gbagada                                         38\n",
       "Others                                                 20\n",
       "Ikoyi                                                  14\n",
       "Victoria Island;Lekki Phase 1                          11\n",
       "Victoria Island;Ikoyi;Gbagada                           9\n",
       "Victoria Island;Magodo;Ikoyi;Lekki Phase 1;Gbagada      7\n",
       "Victoria Island;Gbagada                                 7\n",
       "Victoria Island;Ikoyi;Lekki Phase 1;Gbagada             6\n",
       "Victoria Island;Ikoyi                                   5\n",
       "Lekki Phase 1;Gbagada                                   4\n",
       "Ikoyi;Gbagada                                           4\n",
       "Victoria Island;Magodo;Ikoyi;Lekki Phase 1              2\n",
       "Magodo;Lekki Phase 1;Gbagada                            2\n",
       "Ikoyi;Lekki Phase 1                                     1\n",
       "Victoria Island;Magodo;Lekki Phase 1;Gbagada            1\n",
       "Victoria Island;Magodo;Ikoyi;Gbagada                    1\n",
       "Magodo;Ikoyi;Gbagada                                    1\n",
       "Magodo;Ikoyi                                            1\n",
       "Victoria Island;Magodo;Gbagada                          1\n",
       "Magodo;Lekki Phase 1                                    1\n",
       "Name: areas_close_to_residence, dtype: int64"
      ]
     },
     "execution_count": 23,
     "metadata": {},
     "output_type": "execute_result"
    }
   ],
   "source": [
    "#areas close to residence... sh\n",
    "data['areas_close_to_residence'].value_counts()\n",
    "#we gonna segment this into mainland and island... you either living around the mainland or island. \n",
    "#You can't for example claim to be living arounf Victoria Island and Gbagada. These are 2 distinct places"
   ]
  },
  {
   "cell_type": "code",
   "execution_count": 24,
   "metadata": {},
   "outputs": [],
   "source": [
    "island_areas = ['Victoria Island', 'Lekki Phase 1', 'Ikoyi']\n",
    "for i in data.index:\n",
    "    if 'Victoria Island' in data.at[i, 'areas_close_to_residence'] or 'Lekki Phase 1' in data.at[i, 'areas_close_to_residence'] or 'Ikoyi' in data.at[i, 'areas_close_to_residence']:\n",
    "        data.at[i, 'areas_close_to_residence'] = 'island'\n",
    "        \n",
    "#     if 'Victoria Island' not in data.at[i, 'areas_close_to_residence'] or 'Lekki Phase 1' not in data.at[i, 'areas_close_to_residence'] or 'Ikoyi' not in data.at[i, 'areas_close_to_residence']:\n",
    "#         data.at[i, 'areas_close_to_residence'] = 'mainland'\n",
    "#some refacoring needed"
   ]
  },
  {
   "cell_type": "code",
   "execution_count": 25,
   "metadata": {},
   "outputs": [
    {
     "data": {
      "text/plain": [
       "island            209\n",
       "Gbagada           119\n",
       "Magodo             55\n",
       "Magodo;Gbagada     38\n",
       "Others             20\n",
       "Name: areas_close_to_residence, dtype: int64"
      ]
     },
     "execution_count": 25,
     "metadata": {},
     "output_type": "execute_result"
    }
   ],
   "source": [
    "data['areas_close_to_residence'].value_counts()"
   ]
  },
  {
   "cell_type": "code",
   "execution_count": 26,
   "metadata": {},
   "outputs": [],
   "source": [
    "data['areas_close_to_residence'] = data['areas_close_to_residence'].replace({'Gbagada':'mainland', \n",
    "                                'Magodo':'mainland', 'Others': 'mainland', 'Magodo;Gbagada':'mainland'})\n",
    "#not effective...temporarily fix"
   ]
  },
  {
   "cell_type": "code",
   "execution_count": 27,
   "metadata": {},
   "outputs": [
    {
     "data": {
      "text/plain": [
       "mainland    232\n",
       "island      209\n",
       "Name: areas_close_to_residence, dtype: int64"
      ]
     },
     "execution_count": 27,
     "metadata": {},
     "output_type": "execute_result"
    }
   ],
   "source": [
    "data['areas_close_to_residence'].value_counts()\n",
    "#great"
   ]
  },
  {
   "cell_type": "code",
   "execution_count": 28,
   "metadata": {},
   "outputs": [
    {
     "data": {
      "text/plain": [
       "4 - 6           127\n",
       "2 - 3           120\n",
       "More than 10     83\n",
       "7 - 10           66\n",
       "0 - 1            45\n",
       "Name: times_at_fast_food_per_month, dtype: int64"
      ]
     },
     "execution_count": 28,
     "metadata": {},
     "output_type": "execute_result"
    }
   ],
   "source": [
    "data['times_at_fast_food_per_month'].value_counts()\n",
    "#lets leave like this"
   ]
  },
  {
   "cell_type": "code",
   "execution_count": 29,
   "metadata": {},
   "outputs": [
    {
     "data": {
      "text/plain": [
       "Domino's Pizza                                                        197\n",
       "Domino's Pizza;Debonair's Pizza                                        46\n",
       "Domino's Pizza Saka                                                    43\n",
       "Debonair's Pizza                                                       25\n",
       "Domino's Pizza Saka;Debonair's Pizza                                    7\n",
       "KFC                                                                     3\n",
       "Chicken republic                                                        3\n",
       "Domino's Pizza;Milano Pizza                                             2\n",
       "Chicken Republic                                                        2\n",
       "None                                                                    2\n",
       "La Pizza                                                                2\n",
       "Domino's Pizza;Chicken republic                                         2\n",
       "The place                                                               2\n",
       "Chicken Republic                                                        2\n",
       "Domino's Pizza;Mr Biggs                                                 2\n",
       "The Place Restaurant                                                    1\n",
       "Domino's Pizza;Shoprite                                                 1\n",
       "Domino's Pizza;Debonair's Pizza;La Pizza                                1\n",
       "Domino's Pizza Saka;Taster fried chicken                                1\n",
       "Tastee fried chicken                                                    1\n",
       "Domino's Pizza;Sugarcane, Burg                                          1\n",
       "Sweet sensation                                                         1\n",
       "TFC                                                                     1\n",
       "Savery                                                                  1\n",
       "TFC and KFC                                                             1\n",
       "the place                                                               1\n",
       "Domino's Pizza;Debonair's Pizza;Coldstone                               1\n",
       "Nadia Bakery, opp UNIBEN maingate, Benin City, Edo State.               1\n",
       "The Olace                                                               1\n",
       "Buzz bar                                                                1\n",
       "                                                                     ... \n",
       "Domino's Pizza;Debonair's Pizza;KFC, Tantalizers, Chicken Republic      1\n",
       "Mega chicken                                                            1\n",
       "Domino's Pizza;The place, chicken republic                              1\n",
       "Debonair's Pizza;ICM                                                    1\n",
       "Domino's Pizza Saka;Chicken Republic                                    1\n",
       "bukka hut                                                               1\n",
       "sizzlers                                                                1\n",
       "Domino's Pizza;Big treat                                                1\n",
       "Domino's Pizza;KFC/Hubmart                                              1\n",
       "spur                                                                    1\n",
       "Schola                                                                  1\n",
       "Domino's Pizza;Mega chicken                                             1\n",
       "Domino's Pizza;Debonair's Pizza;yellow chilli                           1\n",
       "Simply delicious                                                        1\n",
       "Domino's Pizza;The place                                                1\n",
       "Domino's Pizza Saka;Pink berry                                          1\n",
       "Domino pizza  falomo                                                    1\n",
       "Tasty fried chicken                                                     1\n",
       "Domino's Pizza Saka;Crunches,                                           1\n",
       "Surulere mall                                                           1\n",
       "Domino's Pizza;The place                                                1\n",
       "China town, VI                                                          1\n",
       "Domino's Pizza;Chicken Republic                                         1\n",
       "Domino's Sangotedo                                                      1\n",
       "Beach town                                                              1\n",
       "Domino's Pizza;Milano Pizza;Debonair's Pizza;pizza inn,                 1\n",
       "food house and others                                                   1\n",
       "Chop taste Plaza                                                        1\n",
       "I don't eat pizza                                                       1\n",
       "Shawarma                                                                1\n",
       "Name: visited_twice_last_2_months, Length: 116, dtype: int64"
      ]
     },
     "execution_count": 29,
     "metadata": {},
     "output_type": "execute_result"
    }
   ],
   "source": [
    "data['visited_twice_last_2_months'].value_counts()"
   ]
  },
  {
   "cell_type": "markdown",
   "metadata": {},
   "source": [
    "Feature engineering"
   ]
  },
  {
   "cell_type": "code",
   "execution_count": 30,
   "metadata": {},
   "outputs": [],
   "source": [
    "#create new columns outta the 'visited_twice_last_2_months' columns\n",
    "data['visited_domino'] = 0\n",
    "data['visited_debonair'] = 0\n",
    "data['visited_chicken_republic'] = 0\n",
    "data['visited_coldstone'] = 0\n",
    "data['visited_kfc'] = 0\n",
    "data['visited_others'] = 0"
   ]
  },
  {
   "cell_type": "code",
   "execution_count": 31,
   "metadata": {},
   "outputs": [],
   "source": [
    "other_places = ['Milano Pizza', 'The place', 'La Pizza', 'Mr Biggs', 'Kilimanjaro', 'Shoprite', 'spur', 'Simply delicious', 'crunchies', 'Hubmart food court','sharwarma', 'Surulere mall',\n",
    "'Big treat', 'Tantaliser', 'I mostly order online', 'Mega chicken', 'Sweat Sensation', \n",
    "'BUKKA HUT', 'The Olace ', 'Tasty fried chicken', 'Megachicken', 'Native Cousine', 'Pick n pay sharwama']\n",
    "\n",
    "for i in data.index:\n",
    "    if 'Domino' in data.at[i, 'visited_twice_last_2_months']:\n",
    "        data.at[i, 'visited_domino'] = 1\n",
    "    if 'bonair' in data.at[i, 'visited_twice_last_2_months']:\n",
    "        data.at[i, 'visited_debonair'] = 1\n",
    "    if 'epublic' in data.at[i, 'visited_twice_last_2_months']:\n",
    "        data.at[i, 'visited_chicken_republic'] = 1\n",
    "    if 'stone' in data.at[i, 'visited_twice_last_2_months']:\n",
    "        data.at[i, 'visited_coldstone'] = 1\n",
    "    if 'kfc' in data.at[i, 'visited_twice_last_2_months'] or 'KFC' in data.at[i, 'visited_twice_last_2_months'] or 'entucky' in data.at[i, 'visited_twice_last_2_months']:\n",
    "        data.at[i, 'visited_kfc'] = 1\n",
    "    if data.at[i, 'visited_twice_last_2_months'] in other_places:\n",
    "        data.at[i, 'visited_others'] = 1\n",
    "        "
   ]
  },
  {
   "cell_type": "code",
   "execution_count": 32,
   "metadata": {},
   "outputs": [],
   "source": [
    "data.drop('visited_twice_last_2_months', axis=1, inplace=True)"
   ]
  },
  {
   "cell_type": "code",
   "execution_count": 33,
   "metadata": {},
   "outputs": [
    {
     "data": {
      "text/plain": [
       "Value for your money                                                           107\n",
       "Vast menu options;Quality;Value for your money                                  52\n",
       "Quality                                                                         44\n",
       "Quality;Value for your money                                                    26\n",
       "Closest place;Quality;Value for your money                                      25\n",
       "Closest place;Vast menu options;Quality;Value for your money                    21\n",
       "Closest place;Cheapest place;Vast menu options;Quality;Value for your money     21\n",
       "Closest place;Cheapest place;Quality;Value for your money                       19\n",
       "Vast menu options                                                               17\n",
       "Closest place                                                                   14\n",
       "Cheapest place                                                                  11\n",
       "Vast menu options;Value for your money                                          10\n",
       "Closest place;Vast menu options;Value for your money                             9\n",
       "Cheapest place;Vast menu options;Quality;Value for your money                    8\n",
       "Closest place;Vast menu options;Quality                                          7\n",
       "Closest place;Value for your money                                               7\n",
       "Vast menu options;Quality                                                        7\n",
       "Closest place;Cheapest place;Value for your money                                6\n",
       "Closest place;Quality                                                            6\n",
       "Cheapest place;Quality;Value for your money                                      5\n",
       "Closest place;Cheapest place;Quality                                             4\n",
       "Closest place;Cheapest place;Vast menu options;Quality                           3\n",
       "Cheapest place;Quality                                                           3\n",
       "Cheapest place;Vast menu options;Quality                                         2\n",
       "Cheapest place;Vast menu options;Value for your money                            2\n",
       "Cheapest place;Value for your money                                              2\n",
       "Closest place;Cheapest place                                                     2\n",
       "Closest place;Cheapest place;Vast menu options                                   1\n",
       "Name: preference_choosing_restaurant, dtype: int64"
      ]
     },
     "execution_count": 33,
     "metadata": {},
     "output_type": "execute_result"
    }
   ],
   "source": [
    "data['preference_choosing_restaurant'].value_counts()"
   ]
  },
  {
   "cell_type": "code",
   "execution_count": 34,
   "metadata": {},
   "outputs": [],
   "source": [
    "#create new columns for 'preference_choosing_restaurant'\n",
    "data['prefer_value_for_money'] = 0\n",
    "data['prefer_vast_menu_options'] = 0\n",
    "data['prefer_quality'] = 0\n",
    "data['prefer_closest_place'] = 0\n",
    "data['prefer_cheapest_place'] = 0\n"
   ]
  },
  {
   "cell_type": "code",
   "execution_count": 35,
   "metadata": {},
   "outputs": [],
   "source": [
    "for i in data.index:\n",
    "    if 'Value for your money' in data.at[i, 'preference_choosing_restaurant']:\n",
    "        data.at[i, 'prefer_value_for_money'] = 1\n",
    "        \n",
    "    if 'Vast menu options' in data.at[i, 'preference_choosing_restaurant']:\n",
    "        data.at[i, 'prefer_vast_menu_options'] = 1\n",
    "        \n",
    "    if 'Quality' in data.at[i, 'preference_choosing_restaurant']:\n",
    "        data.at[i, 'prefer_quality'] = 1\n",
    "        \n",
    "    if 'Closest place' in data.at[i, 'preference_choosing_restaurant']:\n",
    "        data.at[i, 'prefer_closest_place'] = 1\n",
    "        \n",
    "    if 'Cheapest place' in data.at[i, 'preference_choosing_restaurant']:\n",
    "        data.at[i, 'prefer_cheapest_place'] = 1\n",
    "    "
   ]
  },
  {
   "cell_type": "code",
   "execution_count": 36,
   "metadata": {},
   "outputs": [],
   "source": [
    "data.drop('preference_choosing_restaurant', axis=1, inplace=True)"
   ]
  },
  {
   "cell_type": "code",
   "execution_count": 37,
   "metadata": {},
   "outputs": [
    {
     "data": {
      "text/plain": [
       "Index(['age_group', 'gender', 'personality', 'areas_close_to_residence',\n",
       "       'times_at_fast_food_per_month', 'nigerian_dishes_in_purchase',\n",
       "       'burger_in_purchase', 'pizza_in_purchase', 'small_chops_in_purchase',\n",
       "       'shawarma_in_purchase', 'preferred_means_of_ordering',\n",
       "       'best_way_to_reach_for_discounts',\n",
       "       'does_fast_food_special_offers_endears_to_you',\n",
       "       'does_fast_food_quality_endears_to_you',\n",
       "       'does_fast_food_value_for_your_money_endears_to_you',\n",
       "       'does_fast_food_service_endears_to_you',\n",
       "       'does_fast_food_convenience_endears_you',\n",
       "       'does_fast_food_price_endears_to_you',\n",
       "       'does_fast_food_social_media_savviness_endears_to_you', 'your_class',\n",
       "       'visited_domino', 'visited_debonair', 'visited_chicken_republic',\n",
       "       'visited_coldstone', 'visited_kfc', 'visited_others',\n",
       "       'prefer_value_for_money', 'prefer_vast_menu_options', 'prefer_quality',\n",
       "       'prefer_closest_place', 'prefer_cheapest_place'],\n",
       "      dtype='object')"
      ]
     },
     "execution_count": 37,
     "metadata": {},
     "output_type": "execute_result"
    }
   ],
   "source": [
    "data.columns"
   ]
  },
  {
   "cell_type": "code",
   "execution_count": 38,
   "metadata": {},
   "outputs": [
    {
     "data": {
      "text/plain": [
       "Order in a physical store and takeaway                                                                                                  136\n",
       "Order in a physical store and dine in                                                                                                    89\n",
       "Order online and get delivered                                                                                                           75\n",
       "Order in a physical store and dine in;Order in a physical store and takeaway                                                             49\n",
       "Order online and get delivered;Order in a physical store and takeaway                                                                    37\n",
       "Order online and get delivered;Order in a physical store and dine in                                                                     13\n",
       "Order online and get delivered;Order in a physical store and dine in;Order in a physical store and takeaway                              12\n",
       "Order online and pick up                                                                                                                  8\n",
       "Order online and get delivered;Order in a physical store and dine in;Order online and pick up;Order in a physical store and takeaway      7\n",
       "Order in a physical store and dine in;Order online and pick up;Order in a physical store and takeaway                                     5\n",
       "Order online and get delivered;Order online and pick up                                                                                   4\n",
       "Order online and pick up;Order in a physical store and takeaway                                                                           3\n",
       "Order in a physical store and dine in;Order online and pick up                                                                            2\n",
       "Order online and get delivered;Order online and pick up;Order in a physical store and takeaway                                            1\n",
       "Name: preferred_means_of_ordering, dtype: int64"
      ]
     },
     "execution_count": 38,
     "metadata": {},
     "output_type": "execute_result"
    }
   ],
   "source": [
    "data['preferred_means_of_ordering'].value_counts()"
   ]
  },
  {
   "cell_type": "code",
   "execution_count": 39,
   "metadata": {},
   "outputs": [],
   "source": [
    "#create additional columns for 'preferred_means_of_ordering' \n",
    "data['prefer_ordering_in_store'] = 0\n",
    "data['prefer_ordering_takeaway'] = 0\n",
    "data['prefer_ordering_online'] = 0"
   ]
  },
  {
   "cell_type": "code",
   "execution_count": 40,
   "metadata": {},
   "outputs": [],
   "source": [
    "for i in data.index:\n",
    "    if 'Order in a physical stor' in data.at[i, 'preferred_means_of_ordering']:\n",
    "        data.at[i, 'prefer_ordering_in_store'] = 1\n",
    "        \n",
    "    if 'takeaway' in data.at[i, 'preferred_means_of_ordering']:\n",
    "        data.at[i, 'prefer_ordering_takeaway'] = 1\n",
    "        \n",
    "    if 'Order online' in data.at[i, 'preferred_means_of_ordering']:\n",
    "        data.at[i, 'prefer_ordering_online'] = 1"
   ]
  },
  {
   "cell_type": "code",
   "execution_count": 41,
   "metadata": {},
   "outputs": [],
   "source": [
    "data.drop('preferred_means_of_ordering', axis=1, inplace=True)"
   ]
  },
  {
   "cell_type": "code",
   "execution_count": 42,
   "metadata": {},
   "outputs": [
    {
     "data": {
      "text/plain": [
       "Index(['age_group', 'gender', 'personality', 'areas_close_to_residence',\n",
       "       'times_at_fast_food_per_month', 'nigerian_dishes_in_purchase',\n",
       "       'burger_in_purchase', 'pizza_in_purchase', 'small_chops_in_purchase',\n",
       "       'shawarma_in_purchase', 'best_way_to_reach_for_discounts',\n",
       "       'does_fast_food_special_offers_endears_to_you',\n",
       "       'does_fast_food_quality_endears_to_you',\n",
       "       'does_fast_food_value_for_your_money_endears_to_you',\n",
       "       'does_fast_food_service_endears_to_you',\n",
       "       'does_fast_food_convenience_endears_you',\n",
       "       'does_fast_food_price_endears_to_you',\n",
       "       'does_fast_food_social_media_savviness_endears_to_you', 'your_class',\n",
       "       'visited_domino', 'visited_debonair', 'visited_chicken_republic',\n",
       "       'visited_coldstone', 'visited_kfc', 'visited_others',\n",
       "       'prefer_value_for_money', 'prefer_vast_menu_options', 'prefer_quality',\n",
       "       'prefer_closest_place', 'prefer_cheapest_place',\n",
       "       'prefer_ordering_in_store', 'prefer_ordering_takeaway',\n",
       "       'prefer_ordering_online'],\n",
       "      dtype='object')"
      ]
     },
     "execution_count": 42,
     "metadata": {},
     "output_type": "execute_result"
    }
   ],
   "source": [
    "data.columns"
   ]
  },
  {
   "cell_type": "code",
   "execution_count": 43,
   "metadata": {},
   "outputs": [
    {
     "data": {
      "text/plain": [
       "Via SMS                               213\n",
       "Via Emails                            135\n",
       "In-stores                              50\n",
       "An app belonging to the restaurant     36\n",
       "Online ads                              1\n",
       "Social media                            1\n",
       "Social Media                            1\n",
       "Instagram                               1\n",
       "Through social media                    1\n",
       "Social media                            1\n",
       "Social media platforms                  1\n",
       "Name: best_way_to_reach_for_discounts, dtype: int64"
      ]
     },
     "execution_count": 43,
     "metadata": {},
     "output_type": "execute_result"
    }
   ],
   "source": [
    "data['best_way_to_reach_for_discounts'].value_counts()"
   ]
  },
  {
   "cell_type": "code",
   "execution_count": 44,
   "metadata": {},
   "outputs": [],
   "source": [
    "data['best_way_to_reach_for_discounts'] = data['best_way_to_reach_for_discounts'].replace({'Via SMS': 'sms',\n",
    "                                        'Via Emails':'email', 'In-stores':'in_store', 'An app belonging to the restaurant':'restaurant_app',\n",
    "                                        'Online ads ':'social_media', 'Social media ':'social_media', 'Instagram':'social_media',\n",
    "                                        'Through social media ':'social_media', 'Social media platforms':'social_media', 'Social Media':'social_media'})"
   ]
  },
  {
   "cell_type": "code",
   "execution_count": 45,
   "metadata": {},
   "outputs": [],
   "source": [
    "#work on the 'your_class_column'\n",
    "replace = {'A Jollof Warrior':'jollof_lover', 'A Shawarma Expert':'shawarma_lover', 'A Pizza Connoisseur':\n",
    "          'pizza_lover', 'Small Chops Supremacist':'small_chops_lover', 'A Burger Elitist':'burger_lover',\n",
    "          'A Turkey Supremacist':'turkey_lover', 'Amala and Abula loyal fan':'swallow_lover', 'A swallow Dragon':'swallow_lover',\n",
    "          'A Main Dish Authority.':'jollof_lover', 'Pizza, small chops and shawarma warrior':'pizza_small_chops_shawarma_lover',\n",
    "          'chicken and salad':'chicken_salad_lover', 'Fried rice expert':'fried_rice_lover', 'Small chops Supremacist':'small_chops_lover',\n",
    "          'Meat/Chicken pie bender':'meat_chicken_pie_lover', 'A delicious foodie':'foodie', 'Fried rice and chicken': 'fried_rice_lover',\n",
    "          'A health conscious foodie':'foodie', 'Chicken':'chicken_lover', 'Coffee connoisseur ':'coffee_lover',\n",
    "          'a fried Rice warrior':'fried_rice_lover','everything food ':'foodie', 'An ofada rice and native rice warrior':'ofada_rice_lover',\n",
    "          'Let it just taste right':'foodie', 'Beans':'beans_lover', 'Rice king':'jollof_lover', 'A Foodist 😎':'foodie',\n",
    "          'Shawarma expert, burger elitist, small chops supremacist':'burger_small_chops_shawarma_lover', 'I prefer Nigerian meals ':'jollof_lover',\n",
    "          'Naija food lover':'jollof_lover', 'MEAT LOVER':'meat_lover', 'Anything goes':'foodie', \n",
    "           'Small chops supremacist, jollof warrior and shawarma expert 😆':'jollof_small_chops_shawarma_lover', \n",
    "          'Chicken and Fries':'chicken_lover', 'A jollof warrior and a shawarma expert':'jollof_shawarma_lover',\n",
    "          'Meat royalty':'meat_lover', 'All of the above':'foodie', 'A chicken chick':'chicken_lover',\n",
    "          'A Caterer ':'meat_chicken_pie_lover', 'any food that tastes good (quality)':'foodie'}\n",
    "data['your_class'] = data['your_class'].replace(replace)"
   ]
  },
  {
   "cell_type": "code",
   "execution_count": 46,
   "metadata": {},
   "outputs": [
    {
     "data": {
      "text/plain": [
       "jollof_lover                         166\n",
       "shawarma_lover                        86\n",
       "pizza_lover                           71\n",
       "small_chops_lover                     58\n",
       "burger_lover                          31\n",
       "foodie                                 8\n",
       "chicken_lover                          3\n",
       "fried_rice_lover                       3\n",
       "swallow_lover                          2\n",
       "meat_lover                             2\n",
       "meat_chicken_pie_lover                 2\n",
       "pizza_small_chops_shawarma_lover       1\n",
       "beans_lover                            1\n",
       "jollof_shawarma_lover                  1\n",
       "ofada_rice_lover                       1\n",
       "chicken_salad_lover                    1\n",
       "turkey_lover                           1\n",
       "jollof_small_chops_shawarma_lover      1\n",
       "coffee_lover                           1\n",
       "burger_small_chops_shawarma_lover      1\n",
       "Name: your_class, dtype: int64"
      ]
     },
     "execution_count": 46,
     "metadata": {},
     "output_type": "execute_result"
    }
   ],
   "source": [
    "data['your_class'].value_counts()"
   ]
  },
  {
   "cell_type": "code",
   "execution_count": 51,
   "metadata": {},
   "outputs": [
    {
     "data": {
      "text/plain": [
       "Index(['age_group', 'gender', 'personality', 'areas_close_to_residence',\n",
       "       'times_at_fast_food_per_month', 'nigerian_dishes_in_purchase',\n",
       "       'burger_in_purchase', 'pizza_in_purchase', 'small_chops_in_purchase',\n",
       "       'shawarma_in_purchase', 'best_way_to_reach_for_discounts',\n",
       "       'does_fast_food_special_offers_endears_to_you',\n",
       "       'does_fast_food_quality_endears_to_you',\n",
       "       'does_fast_food_value_for_your_money_endears_to_you',\n",
       "       'does_fast_food_service_endears_to_you',\n",
       "       'does_fast_food_convenience_endears_you',\n",
       "       'does_fast_food_price_endears_to_you',\n",
       "       'does_fast_food_social_media_savviness_endears_to_you', 'your_class',\n",
       "       'visited_domino', 'visited_debonair', 'visited_chicken_republic',\n",
       "       'visited_coldstone', 'visited_kfc', 'visited_others',\n",
       "       'prefer_value_for_money', 'prefer_vast_menu_options', 'prefer_quality',\n",
       "       'prefer_closest_place', 'prefer_cheapest_place',\n",
       "       'prefer_ordering_in_store', 'prefer_ordering_takeaway',\n",
       "       'prefer_ordering_online'],\n",
       "      dtype='object')"
      ]
     },
     "execution_count": 51,
     "metadata": {},
     "output_type": "execute_result"
    }
   ],
   "source": [
    "data.columns"
   ]
  },
  {
   "cell_type": "code",
   "execution_count": 47,
   "metadata": {},
   "outputs": [
    {
     "data": {
      "text/html": [
       "<div>\n",
       "<style scoped>\n",
       "    .dataframe tbody tr th:only-of-type {\n",
       "        vertical-align: middle;\n",
       "    }\n",
       "\n",
       "    .dataframe tbody tr th {\n",
       "        vertical-align: top;\n",
       "    }\n",
       "\n",
       "    .dataframe thead th {\n",
       "        text-align: right;\n",
       "    }\n",
       "</style>\n",
       "<table border=\"1\" class=\"dataframe\">\n",
       "  <thead>\n",
       "    <tr style=\"text-align: right;\">\n",
       "      <th></th>\n",
       "      <th>age_group</th>\n",
       "      <th>gender</th>\n",
       "      <th>personality</th>\n",
       "      <th>areas_close_to_residence</th>\n",
       "      <th>times_at_fast_food_per_month</th>\n",
       "      <th>nigerian_dishes_in_purchase</th>\n",
       "      <th>burger_in_purchase</th>\n",
       "      <th>pizza_in_purchase</th>\n",
       "      <th>small_chops_in_purchase</th>\n",
       "      <th>shawarma_in_purchase</th>\n",
       "      <th>...</th>\n",
       "      <th>visited_kfc</th>\n",
       "      <th>visited_others</th>\n",
       "      <th>prefer_value_for_money</th>\n",
       "      <th>prefer_vast_menu_options</th>\n",
       "      <th>prefer_quality</th>\n",
       "      <th>prefer_closest_place</th>\n",
       "      <th>prefer_cheapest_place</th>\n",
       "      <th>prefer_ordering_in_store</th>\n",
       "      <th>prefer_ordering_takeaway</th>\n",
       "      <th>prefer_ordering_online</th>\n",
       "    </tr>\n",
       "  </thead>\n",
       "  <tbody>\n",
       "    <tr>\n",
       "      <th>0</th>\n",
       "      <td>young_adults</td>\n",
       "      <td>Male</td>\n",
       "      <td>class_a</td>\n",
       "      <td>island</td>\n",
       "      <td>More than 10</td>\n",
       "      <td>Most likely</td>\n",
       "      <td>Most likely</td>\n",
       "      <td>Likely</td>\n",
       "      <td>Highly Unlikely</td>\n",
       "      <td>Most likely</td>\n",
       "      <td>...</td>\n",
       "      <td>0</td>\n",
       "      <td>0</td>\n",
       "      <td>1</td>\n",
       "      <td>0</td>\n",
       "      <td>0</td>\n",
       "      <td>0</td>\n",
       "      <td>0</td>\n",
       "      <td>0</td>\n",
       "      <td>0</td>\n",
       "      <td>1</td>\n",
       "    </tr>\n",
       "    <tr>\n",
       "      <th>1</th>\n",
       "      <td>young_adults</td>\n",
       "      <td>Male</td>\n",
       "      <td>class_a</td>\n",
       "      <td>island</td>\n",
       "      <td>7 - 10</td>\n",
       "      <td>Highly Unlikely</td>\n",
       "      <td>Likely</td>\n",
       "      <td>Likely</td>\n",
       "      <td>Most likely</td>\n",
       "      <td>Likely</td>\n",
       "      <td>...</td>\n",
       "      <td>0</td>\n",
       "      <td>0</td>\n",
       "      <td>1</td>\n",
       "      <td>0</td>\n",
       "      <td>0</td>\n",
       "      <td>0</td>\n",
       "      <td>0</td>\n",
       "      <td>1</td>\n",
       "      <td>1</td>\n",
       "      <td>0</td>\n",
       "    </tr>\n",
       "    <tr>\n",
       "      <th>2</th>\n",
       "      <td>young_adults</td>\n",
       "      <td>Male</td>\n",
       "      <td>class_c</td>\n",
       "      <td>island</td>\n",
       "      <td>4 - 6</td>\n",
       "      <td>Likely</td>\n",
       "      <td>Highly Unlikely</td>\n",
       "      <td>Most likely</td>\n",
       "      <td>Likely</td>\n",
       "      <td>Likely</td>\n",
       "      <td>...</td>\n",
       "      <td>0</td>\n",
       "      <td>0</td>\n",
       "      <td>0</td>\n",
       "      <td>0</td>\n",
       "      <td>1</td>\n",
       "      <td>0</td>\n",
       "      <td>1</td>\n",
       "      <td>0</td>\n",
       "      <td>0</td>\n",
       "      <td>1</td>\n",
       "    </tr>\n",
       "    <tr>\n",
       "      <th>3</th>\n",
       "      <td>growing_adults</td>\n",
       "      <td>Female</td>\n",
       "      <td>class_c</td>\n",
       "      <td>island</td>\n",
       "      <td>4 - 6</td>\n",
       "      <td>Most likely</td>\n",
       "      <td>Likely</td>\n",
       "      <td>Most likely</td>\n",
       "      <td>Likely</td>\n",
       "      <td>Most likely</td>\n",
       "      <td>...</td>\n",
       "      <td>0</td>\n",
       "      <td>0</td>\n",
       "      <td>1</td>\n",
       "      <td>0</td>\n",
       "      <td>1</td>\n",
       "      <td>0</td>\n",
       "      <td>0</td>\n",
       "      <td>0</td>\n",
       "      <td>0</td>\n",
       "      <td>1</td>\n",
       "    </tr>\n",
       "    <tr>\n",
       "      <th>4</th>\n",
       "      <td>young_adults</td>\n",
       "      <td>Female</td>\n",
       "      <td>class_c</td>\n",
       "      <td>mainland</td>\n",
       "      <td>4 - 6</td>\n",
       "      <td>Most likely</td>\n",
       "      <td>Highly Unlikely</td>\n",
       "      <td>Highly Unlikely</td>\n",
       "      <td>Likely</td>\n",
       "      <td>Most likely</td>\n",
       "      <td>...</td>\n",
       "      <td>0</td>\n",
       "      <td>0</td>\n",
       "      <td>1</td>\n",
       "      <td>1</td>\n",
       "      <td>0</td>\n",
       "      <td>1</td>\n",
       "      <td>0</td>\n",
       "      <td>1</td>\n",
       "      <td>0</td>\n",
       "      <td>1</td>\n",
       "    </tr>\n",
       "  </tbody>\n",
       "</table>\n",
       "<p>5 rows × 33 columns</p>\n",
       "</div>"
      ],
      "text/plain": [
       "        age_group  gender personality areas_close_to_residence  \\\n",
       "0    young_adults    Male     class_a                   island   \n",
       "1    young_adults    Male     class_a                   island   \n",
       "2    young_adults    Male     class_c                   island   \n",
       "3  growing_adults  Female     class_c                   island   \n",
       "4    young_adults  Female     class_c                 mainland   \n",
       "\n",
       "  times_at_fast_food_per_month nigerian_dishes_in_purchase burger_in_purchase  \\\n",
       "0                 More than 10                 Most likely        Most likely   \n",
       "1                       7 - 10             Highly Unlikely             Likely   \n",
       "2                        4 - 6                      Likely    Highly Unlikely   \n",
       "3                        4 - 6                 Most likely             Likely   \n",
       "4                        4 - 6                 Most likely    Highly Unlikely   \n",
       "\n",
       "  pizza_in_purchase small_chops_in_purchase shawarma_in_purchase  \\\n",
       "0            Likely         Highly Unlikely          Most likely   \n",
       "1            Likely             Most likely               Likely   \n",
       "2       Most likely                  Likely               Likely   \n",
       "3       Most likely                  Likely          Most likely   \n",
       "4   Highly Unlikely                  Likely          Most likely   \n",
       "\n",
       "            ...           visited_kfc visited_others prefer_value_for_money  \\\n",
       "0           ...                     0              0                      1   \n",
       "1           ...                     0              0                      1   \n",
       "2           ...                     0              0                      0   \n",
       "3           ...                     0              0                      1   \n",
       "4           ...                     0              0                      1   \n",
       "\n",
       "  prefer_vast_menu_options prefer_quality prefer_closest_place  \\\n",
       "0                        0              0                    0   \n",
       "1                        0              0                    0   \n",
       "2                        0              1                    0   \n",
       "3                        0              1                    0   \n",
       "4                        1              0                    1   \n",
       "\n",
       "  prefer_cheapest_place prefer_ordering_in_store prefer_ordering_takeaway  \\\n",
       "0                     0                        0                        0   \n",
       "1                     0                        1                        1   \n",
       "2                     1                        0                        0   \n",
       "3                     0                        0                        0   \n",
       "4                     0                        1                        0   \n",
       "\n",
       "   prefer_ordering_online  \n",
       "0                       1  \n",
       "1                       0  \n",
       "2                       1  \n",
       "3                       1  \n",
       "4                       1  \n",
       "\n",
       "[5 rows x 33 columns]"
      ]
     },
     "execution_count": 47,
     "metadata": {},
     "output_type": "execute_result"
    }
   ],
   "source": [
    "data.head()"
   ]
  },
  {
   "cell_type": "markdown",
   "metadata": {},
   "source": [
    "# Exploratory Data Analysis"
   ]
  },
  {
   "cell_type": "markdown",
   "metadata": {},
   "source": [
    "Univariate Analysis"
   ]
  },
  {
   "cell_type": "code",
   "execution_count": 50,
   "metadata": {},
   "outputs": [
    {
     "data": {
      "text/plain": [
       "<matplotlib.axes._subplots.AxesSubplot at 0x7fc85c8a6c18>"
      ]
     },
     "execution_count": 50,
     "metadata": {},
     "output_type": "execute_result"
    },
    {
     "data": {
      "image/png": "[encoded data removed]",
      "text/plain": [
       "<Figure size 842.4x595.44 with 1 Axes>"
      ]
     },
     "metadata": {},
     "output_type": "display_data"
    }
   ],
   "source": [
    "sns.set(style=\"darkgrid\", rc={'figure.figsize':(11.7,8.27)})\n",
    "sns.countplot(data['age_group'])\n",
    "#Most responses come from people between 18 and 34. "
   ]
  },
  {
   "cell_type": "code",
   "execution_count": 113,
   "metadata": {},
   "outputs": [
    {
     "data": {
      "text/plain": [
       "<matplotlib.axes._subplots.AxesSubplot at 0x7fc857deecc0>"
      ]
     },
     "execution_count": 113,
     "metadata": {},
     "output_type": "execute_result"
    },
    {
     "data": {
      "image/png": "[encoded data removed]",
      "text/plain": [
       "<Figure size 842.4x595.44 with 1 Axes>"
      ]
     },
     "metadata": {},
     "output_type": "display_data"
    }
   ],
   "source": [
    "#gender\n",
    "sns.countplot(data['gender'])\n",
    "#more females on this survey"
   ]
  },
  {
   "cell_type": "code",
   "execution_count": 52,
   "metadata": {},
   "outputs": [
    {
     "data": {
      "text/plain": [
       "<matplotlib.axes._subplots.AxesSubplot at 0x7fc85c89b0b8>"
      ]
     },
     "execution_count": 52,
     "metadata": {},
     "output_type": "execute_result"
    },
    {
     "data": {
      "image/png": "[encoded data removed]",
      "text/plain": [
       "<Figure size 842.4x595.44 with 1 Axes>"
      ]
     },
     "metadata": {},
     "output_type": "display_data"
    }
   ],
   "source": [
    "#no of times people visit the fast food\n",
    "sns.countplot(data['times_at_fast_food_per_month'])"
   ]
  },
  {
   "cell_type": "code",
   "execution_count": 53,
   "metadata": {},
   "outputs": [
    {
     "data": {
      "text/plain": [
       "<matplotlib.axes._subplots.AxesSubplot at 0x7fc85c64eda0>"
      ]
     },
     "execution_count": 53,
     "metadata": {},
     "output_type": "execute_result"
    },
    {
     "data": {
      "image/png": "[encoded data removed]",
      "text/plain": [
       "<Figure size 842.4x595.44 with 1 Axes>"
      ]
     },
     "metadata": {},
     "output_type": "display_data"
    }
   ],
   "source": [
    "#how people like nigerian dishes in their purchases\n",
    "sns.countplot(data['nigerian_dishes_in_purchase'])"
   ]
  },
  {
   "cell_type": "code",
   "execution_count": 54,
   "metadata": {},
   "outputs": [
    {
     "data": {
      "text/plain": [
       "<matplotlib.axes._subplots.AxesSubplot at 0x7fc85c7dc3c8>"
      ]
     },
     "execution_count": 54,
     "metadata": {},
     "output_type": "execute_result"
    },
    {
     "data": {
      "image/png": "[encoded data removed]",
      "text/plain": [
       "<Figure size 842.4x595.44 with 1 Axes>"
      ]
     },
     "metadata": {},
     "output_type": "display_data"
    }
   ],
   "source": [
    "#how people like pizza in their purchases\n",
    "sns.countplot(data['pizza_in_purchase'])"
   ]
  },
  {
   "cell_type": "code",
   "execution_count": 55,
   "metadata": {},
   "outputs": [
    {
     "data": {
      "text/plain": [
       "<matplotlib.axes._subplots.AxesSubplot at 0x7fc85c7acc88>"
      ]
     },
     "execution_count": 55,
     "metadata": {},
     "output_type": "execute_result"
    },
    {
     "data": {
      "image/png": "[encoded data removed]",
      "text/plain": [
       "<Figure size 842.4x595.44 with 1 Axes>"
      ]
     },
     "metadata": {},
     "output_type": "display_data"
    }
   ],
   "source": [
    "#how people like small chops in purchase\n",
    "sns.countplot(data['small_chops_in_purchase'])"
   ]
  },
  {
   "cell_type": "code",
   "execution_count": 56,
   "metadata": {},
   "outputs": [
    {
     "data": {
      "text/plain": [
       "<matplotlib.axes._subplots.AxesSubplot at 0x7fc85c6ffe48>"
      ]
     },
     "execution_count": 56,
     "metadata": {},
     "output_type": "execute_result"
    },
    {
     "data": {
      "image/png": "[encoded data removed]",
      "text/plain": [
       "<Figure size 842.4x595.44 with 1 Axes>"
      ]
     },
     "metadata": {},
     "output_type": "display_data"
    }
   ],
   "source": [
    "#best way to reach customers for discounts\n",
    "sns.countplot(data['best_way_to_reach_for_discounts'])\n",
    "#sms is the best way"
   ]
  },
  {
   "cell_type": "code",
   "execution_count": 57,
   "metadata": {},
   "outputs": [
    {
     "data": {
      "text/plain": [
       "<matplotlib.axes._subplots.AxesSubplot at 0x7fc85c6c9978>"
      ]
     },
     "execution_count": 57,
     "metadata": {},
     "output_type": "execute_result"
    },
    {
     "data": {
      "image/png": "[encoded data removed]",
      "text/plain": [
       "<Figure size 842.4x595.44 with 1 Axes>"
      ]
     },
     "metadata": {},
     "output_type": "display_data"
    }
   ],
   "source": [
    "#does special offers endears to you\n",
    "sns.countplot(data['does_fast_food_special_offers_endears_to_you'])"
   ]
  },
  {
   "cell_type": "code",
   "execution_count": 58,
   "metadata": {},
   "outputs": [
    {
     "data": {
      "text/plain": [
       "<matplotlib.axes._subplots.AxesSubplot at 0x7fc85c6a7cc0>"
      ]
     },
     "execution_count": 58,
     "metadata": {},
     "output_type": "execute_result"
    },
    {
     "data": {
      "image/png": "[encoded data removed]",
      "text/plain": [
       "<Figure size 842.4x595.44 with 1 Axes>"
      ]
     },
     "metadata": {},
     "output_type": "display_data"
    }
   ],
   "source": [
    "#are people particular about food quality\n",
    "sns.countplot(data['does_fast_food_quality_endears_to_you'])\n",
    "#quality is extremely important in choosing a fast food restaurant"
   ]
  },
  {
   "cell_type": "code",
   "execution_count": 60,
   "metadata": {},
   "outputs": [
    {
     "data": {
      "text/plain": [
       "<matplotlib.axes._subplots.AxesSubplot at 0x7fc85c403f28>"
      ]
     },
     "execution_count": 60,
     "metadata": {},
     "output_type": "execute_result"
    },
    {
     "data": {
      "image/png": "[encoded data removed]",
      "text/plain": [
       "<Figure size 842.4x595.44 with 1 Axes>"
      ]
     },
     "metadata": {},
     "output_type": "display_data"
    }
   ],
   "source": [
    "#are people particular about the food price\n",
    "sns.countplot(data['does_fast_food_price_endears_to_you'])\n",
    "#yes, the price is important"
   ]
  },
  {
   "cell_type": "code",
   "execution_count": 61,
   "metadata": {},
   "outputs": [
    {
     "data": {
      "text/plain": [
       "<matplotlib.axes._subplots.AxesSubplot at 0x7fc85c3ce048>"
      ]
     },
     "execution_count": 61,
     "metadata": {},
     "output_type": "execute_result"
    },
    {
     "data": {
      "image/png": "[encoded data removed]",
      "text/plain": [
       "<Figure size 842.4x595.44 with 1 Axes>"
      ]
     },
     "metadata": {},
     "output_type": "display_data"
    }
   ],
   "source": [
    "#personality of people on this survey\n",
    "sns.countplot(data['personality'])\n",
    "\n",
    "#most - I am original and a nonconformist"
   ]
  },
  {
   "cell_type": "code",
   "execution_count": 117,
   "metadata": {},
   "outputs": [
    {
     "data": {
      "text/plain": [
       "[Text(0,0,'shawarma_lover'),\n",
       " Text(0,0,'jollof_lover'),\n",
       " Text(0,0,'pizza_lover'),\n",
       " Text(0,0,'small_chops_lover'),\n",
       " Text(0,0,'burger_lover'),\n",
       " Text(0,0,'fried_rice_lover'),\n",
       " Text(0,0,'foodie'),\n",
       " Text(0,0,'jollof_shawarma_lover'),\n",
       " Text(0,0,'swallow_lover'),\n",
       " Text(0,0,'chicken_salad_lover'),\n",
       " Text(0,0,'ofada_rice_lover'),\n",
       " Text(0,0,'meat_lover'),\n",
       " Text(0,0,'meat_chicken_pie_lover'),\n",
       " Text(0,0,'jollof_small_chops_shawarma_lover'),\n",
       " Text(0,0,'beans_lover'),\n",
       " Text(0,0,'turkey_lover'),\n",
       " Text(0,0,'coffee_lover'),\n",
       " Text(0,0,'burger_small_chops_shawarma_lover'),\n",
       " Text(0,0,'chicken_lover'),\n",
       " Text(0,0,'pizza_small_chops_shawarma_lover')]"
      ]
     },
     "execution_count": 117,
     "metadata": {},
     "output_type": "execute_result"
    },
    {
     "data": {
      "image/png": "[encoded data removed]",
      "text/plain": [
       "<Figure size 842.4x595.44 with 1 Axes>"
      ]
     },
     "metadata": {},
     "output_type": "display_data"
    }
   ],
   "source": [
    "#class of people in the survey\n",
    "chart = sns.countplot(data['your_class'])\n",
    "chart.set_xticklabels(chart.get_xticklabels(), rotation=90)"
   ]
  },
  {
   "cell_type": "markdown",
   "metadata": {},
   "source": [
    "Bi-variate and Multi-variate analysis"
   ]
  },
  {
   "cell_type": "code",
   "execution_count": 108,
   "metadata": {},
   "outputs": [
    {
     "data": {
      "text/plain": [
       "<matplotlib.axes._subplots.AxesSubplot at 0x7fc857e5ddd8>"
      ]
     },
     "execution_count": 108,
     "metadata": {},
     "output_type": "execute_result"
    },
    {
     "data": {
      "image/png": "[encoded data removed]",
      "text/plain": [
       "<Figure size 842.4x595.44 with 1 Axes>"
      ]
     },
     "metadata": {},
     "output_type": "display_data"
    }
   ],
   "source": [
    "#most visited places\n",
    "visited = data[['visited_domino', 'visited_debonair', 'visited_chicken_republic', 'visited_coldstone', 'visited_kfc', 'visited_others']]\n",
    "visited.sum().plot(kind='bar')\n",
    "\n",
    "#dominos seems to be top choice for the audience"
   ]
  },
  {
   "cell_type": "code",
   "execution_count": 109,
   "metadata": {},
   "outputs": [
    {
     "data": {
      "text/plain": [
       "<matplotlib.axes._subplots.AxesSubplot at 0x7fc857db26d8>"
      ]
     },
     "execution_count": 109,
     "metadata": {},
     "output_type": "execute_result"
    },
    {
     "data": {
      "image/png": "[encoded data removed]",
      "text/plain": [
       "<Figure size 842.4x595.44 with 1 Axes>"
      ]
     },
     "metadata": {},
     "output_type": "display_data"
    }
   ],
   "source": [
    "#preference in choosing a restaurant\n",
    "preference = data[['prefer_value_for_money', 'prefer_vast_menu_options', 'prefer_quality', 'prefer_closest_place',\n",
    "                  'prefer_cheapest_place']]\n",
    "preference.sum().plot(kind='bar')\n",
    "\n",
    "#'cheapest price' is not considered when trying to pick a restaurant. Value for money(quality) are important \n",
    "#considerations for choosing a restaurant"
   ]
  },
  {
   "cell_type": "code",
   "execution_count": 112,
   "metadata": {},
   "outputs": [
    {
     "data": {
      "text/plain": [
       "<matplotlib.axes._subplots.AxesSubplot at 0x7fc857d7af98>"
      ]
     },
     "execution_count": 112,
     "metadata": {},
     "output_type": "execute_result"
    },
    {
     "data": {
      "image/png": "[encoded data removed]",
      "text/plain": [
       "<Figure size 842.4x595.44 with 1 Axes>"
      ]
     },
     "metadata": {},
     "output_type": "display_data"
    }
   ],
   "source": [
    "#preferred means of ordering\n",
    "ordering = data[['prefer_ordering_in_store', 'prefer_ordering_takeaway', 'prefer_ordering_online']]\n",
    "ordering.sum().plot(kind='bar')\n",
    "\n",
    "#'online ordering' is the least attractive means of ordering. \n",
    "#People prefer buying in-store"
   ]
  },
  {
   "cell_type": "code",
   "execution_count": 118,
   "metadata": {},
   "outputs": [
    {
     "data": {
      "text/plain": [
       "<matplotlib.axes._subplots.AxesSubplot at 0x7fc85637bd68>"
      ]
     },
     "execution_count": 118,
     "metadata": {},
     "output_type": "execute_result"
    },
    {
     "data": {
      "image/png": "[encoded data removed]",
      "text/plain": [
       "<Figure size 842.4x595.44 with 1 Axes>"
      ]
     },
     "metadata": {},
     "output_type": "display_data"
    }
   ],
   "source": [
    "#how does personality affects the purchase power of respondents\n",
    "sns.countplot(x='times_at_fast_food_per_month', hue='personality', data=data)\n",
    "\n",
    "#people are authoritative tend to visit fast foods less often.\n",
    "#shy people have it difficult visiting restaurants"
   ]
  },
  {
   "cell_type": "code",
   "execution_count": 119,
   "metadata": {},
   "outputs": [
    {
     "data": {
      "text/plain": [
       "<matplotlib.axes._subplots.AxesSubplot at 0x7fc855ed02b0>"
      ]
     },
     "execution_count": 119,
     "metadata": {},
     "output_type": "execute_result"
    },
    {
     "data": {
      "image/png": "[encoded data removed]",
      "text/plain": [
       "<Figure size 842.4x595.44 with 1 Axes>"
      ]
     },
     "metadata": {},
     "output_type": "display_data"
    }
   ],
   "source": [
    "#how does gender affects purchase power of respondents\n",
    "sns.countplot(x='times_at_fast_food_per_month', hue='gender', data=data)\n",
    "#females visits fast foods more .... obviously"
   ]
  },
  {
   "cell_type": "code",
   "execution_count": 139,
   "metadata": {},
   "outputs": [
    {
     "data": {
      "text/plain": [
       "<matplotlib.axes._subplots.AxesSubplot at 0x7fc855a78278>"
      ]
     },
     "execution_count": 139,
     "metadata": {},
     "output_type": "execute_result"
    },
    {
     "data": {
      "image/png": "[encoded data removed]",
      "text/plain": [
       "<Figure size 842.4x595.44 with 1 Axes>"
      ]
     },
     "metadata": {},
     "output_type": "display_data"
    }
   ],
   "source": [
    "#what gender prefer ordering online. That will help when targeting ads for example, jumia foods. \n",
    "var = data.groupby('gender').prefer_ordering_online.sum()\n",
    "var.plot(kind='bar')\n",
    "\n",
    "#females prefer ordering online"
   ]
  },
  {
   "cell_type": "code",
   "execution_count": 141,
   "metadata": {},
   "outputs": [
    {
     "data": {
      "text/plain": [
       "<matplotlib.axes._subplots.AxesSubplot at 0x7fc8559da320>"
      ]
     },
     "execution_count": 141,
     "metadata": {},
     "output_type": "execute_result"
    },
    {
     "data": {
      "image/png": "[encoded data removed]",
      "text/plain": [
       "<Figure size 842.4x595.44 with 1 Axes>"
      ]
     },
     "metadata": {},
     "output_type": "display_data"
    }
   ],
   "source": [
    "#age group that prefers ordering online\n",
    "age_group = data.groupby('age_group').prefer_ordering_online.sum()\n",
    "age_group.plot(kind='bar')"
   ]
  },
  {
   "cell_type": "code",
   "execution_count": 162,
   "metadata": {},
   "outputs": [
    {
     "data": {
      "text/plain": [
       "<matplotlib.axes._subplots.AxesSubplot at 0x7fc8557ffc18>"
      ]
     },
     "execution_count": 162,
     "metadata": {},
     "output_type": "execute_result"
    },
    {
     "data": {
      "image/png": "[encoded data removed]",
      "text/plain": [
       "<Figure size 842.4x595.44 with 1 Axes>"
      ]
     },
     "metadata": {},
     "output_type": "display_data"
    }
   ],
   "source": [
    "#why did people dominos more?\n",
    "preference = data.loc[(data['visited_domino'] == 1) & ((data['pizza_in_purchase'] == 'Likely') | (data['pizza_in_purchase'] == 'Most likely'))][['prefer_value_for_money', 'prefer_vast_menu_options', 'prefer_quality',\n",
    "       'prefer_closest_place', 'prefer_cheapest_place']]\n",
    "preference.sum().plot(kind='bar')\n",
    "\n",
    "#value for money"
   ]
  },
  {
   "cell_type": "code",
   "execution_count": 163,
   "metadata": {},
   "outputs": [
    {
     "data": {
      "text/plain": [
       "<matplotlib.axes._subplots.AxesSubplot at 0x7fc8557ca390>"
      ]
     },
     "execution_count": 163,
     "metadata": {},
     "output_type": "execute_result"
    },
    {
     "data": {
      "image/png": "[encoded data removed]",
      "text/plain": [
       "<Figure size 842.4x595.44 with 1 Axes>"
      ]
     },
     "metadata": {},
     "output_type": "display_data"
    }
   ],
   "source": [
    "#does location affect purchase frequency\n",
    "sns.countplot(x='times_at_fast_food_per_month', hue='areas_close_to_residence', data=data)"
   ]
  },
  {
   "cell_type": "code",
   "execution_count": null,
   "metadata": {},
   "outputs": [],
   "source": []
  }
 ],
 "metadata": {
  "kernelspec": {
   "display_name": "Python 3",
   "language": "python",
   "name": "python3"
  },
  "language_info": {
   "codemirror_mode": {
    "name": "ipython",
    "version": 3
   },
   "file_extension": ".py",
   "mimetype": "text/x-python",
   "name": "python",
   "nbconvert_exporter": "python",
   "pygments_lexer": "ipython3",
   "version": "3.6.5"
  }
 },
 "nbformat": 4,
 "nbformat_minor": 2
}
